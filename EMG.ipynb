{
 "cells": [
  {
   "cell_type": "markdown",
   "metadata": {},
   "source": [
    "## Initialize important libraries:"
   ]
  },
  {
   "cell_type": "code",
   "execution_count": 64,
   "metadata": {
    "collapsed": false
   },
   "outputs": [],
   "source": [
    "import pandas as pd\n",
    "import matplotlib.pyplot as plt\n",
    "import seaborn as sns\n",
    "import numpy as np\n",
    "from scipy.stats import norm\n",
    "from scipy.io import loadmat \n"
   ]
  },
  {
   "cell_type": "markdown",
   "metadata": {},
   "source": [
    "### Extract data from .mat file and Initialize a dictionary variable which conatains EMG data of different types of movements"
   ]
  },
  {
   "cell_type": "code",
   "execution_count": 133,
   "metadata": {
    "collapsed": false
   },
   "outputs": [],
   "source": [
    "#src of database\n",
    "src = 'M:/sEMG_Basic_Hand_movements_upatras/Database 1/male_1'\n",
    "# src = 'M:/sEMG_Basic_Hand_movements_upatras/Database 1/male_2'\n",
    "# src = 'M:/sEMG_Basic_Hand_movements_upatras/Database 1/female_1'\n",
    "# src = 'M:/sEMG_Basic_Hand_movements_upatras/Database 1/female_2'\n",
    "# src = 'M:/sEMG_Basic_Hand_movements_upatras/Database 1/female_3'\n",
    "\n",
    "\n",
    "\n",
    "#function to extract data and convert them to Dataframes \n",
    "def extract_data(src):\n",
    "    movements = loadmat(src)\n",
    "    unused_keys = ['__globals__','__header__','__version__']\n",
    "    for key,value in list(movements.iteritems()):\n",
    "\n",
    "        if key in unused_keys:\n",
    "             del movements[key]\n",
    "        else:\n",
    "             movements[key] = pd.DataFrame(value)\n",
    "\n",
    "    return movements\n",
    "\n",
    "movements = extract_data(src)\n"
   ]
  },
  {
   "cell_type": "markdown",
   "metadata": {},
   "source": [
    "### Testing data "
   ]
  },
  {
   "cell_type": "code",
   "execution_count": 129,
   "metadata": {
    "collapsed": false,
    "scrolled": false
   },
   "outputs": [
    {
     "name": "stdout",
     "output_type": "stream",
     "text": [
      "        0         1         2         3         4         5         6     \\\n",
      "0   0.199706  0.199706  0.199706  0.250710  0.199706  0.301713 -0.004307   \n",
      "1   0.046696  0.021195  0.123201  0.301713  0.123201  0.072198  0.199706   \n",
      "2   0.021195  0.072198  0.199706  0.174205  0.276211  0.327214  0.123201   \n",
      "3  -0.029808  0.123201  0.276211  0.250710  0.250710  0.123201  0.225208   \n",
      "4   0.225208  0.225208  0.148703  0.046696  0.046696  0.097700 -0.029808   \n",
      "5   0.174205  0.301713  0.199706  0.225208  0.148703  0.046696  0.123201   \n",
      "6   0.021195  0.378218  0.225208  0.301713  0.148703  0.199706  0.046696   \n",
      "7   0.123201 -0.004307  0.123201  0.250710  0.378218  0.123201  0.276211   \n",
      "8   0.276211  0.250710  0.276211  0.123201  0.174205  0.123201  0.097700   \n",
      "9   0.072198 -0.029808 -0.055310  0.021195  0.199706  0.276211  0.301713   \n",
      "10  0.021195 -0.055310  0.046696  0.021195  0.097700  0.378218  0.225208   \n",
      "11  0.148703  0.123201  0.123201  0.174205  0.199706  0.021195  0.097700   \n",
      "12  0.276211  0.174205  0.174205  0.174205  0.021195  0.097700  0.021195   \n",
      "13  0.123201  0.148703  0.174205  0.046696 -0.029808  0.021195  0.021195   \n",
      "14  0.225208  0.199706  0.097700  0.199706  0.276211  0.072198  0.072198   \n",
      "15 -0.004307  0.072198  0.301713  0.352716  0.276211  0.250710  0.123201   \n",
      "16  0.327214  0.225208  0.072198  0.072198  0.046696  0.072198 -0.080812   \n",
      "17  0.148703  0.276211  0.174205  0.174205  0.148703  0.072198  0.148703   \n",
      "18 -0.004307  0.021195  0.250710  0.250710  0.250710  0.250710  0.097700   \n",
      "19  0.021195 -0.004307 -0.029808 -0.106313  0.097700  0.225208  0.378218   \n",
      "20  0.097700  0.225208  0.250710  0.276211  0.225208  0.225208  0.174205   \n",
      "21  0.199706  0.046696 -0.080812 -0.055310  0.021195  0.097700  0.199706   \n",
      "22 -0.055310  0.021195 -0.004307  0.276211  0.454723  0.327214  0.174205   \n",
      "23  0.072198  0.072198  0.123201 -0.029808  0.225208  0.301713  0.199706   \n",
      "24  0.276211  0.199706  0.225208  0.097700  0.097700  0.148703  0.174205   \n",
      "25  0.097700 -0.029808  0.021195  0.046696 -0.004307  0.123201  0.327214   \n",
      "26  0.174205  0.199706  0.072198 -0.004307  0.097700  0.046696  0.046696   \n",
      "27  0.225208  0.352716  0.225208  0.174205  0.276211  0.072198  0.021195   \n",
      "28  0.148703  0.352716  0.301713  0.123201  0.199706  0.174205 -0.004307   \n",
      "29  0.199706  0.225208  0.097700  0.148703 -0.080812  0.097700  0.225208   \n",
      "\n",
      "        7         8         9       ...         2990      2991      2992  \\\n",
      "0   0.046696  0.046696 -0.106313    ...    -0.080812 -0.029808  0.225208   \n",
      "1   0.174205  0.072198  0.225208    ...     0.021195 -0.080812  0.148703   \n",
      "2   0.199706  0.046696  0.123201    ...    -0.106313  0.021195  0.148703   \n",
      "3   0.072198  0.123201  0.097700    ...     0.123201 -0.080812  0.225208   \n",
      "4  -0.029808  0.123201  0.250710    ...     0.327214  0.174205  0.174205   \n",
      "5   0.021195 -0.029808  0.097700    ...     0.097700  0.199706  0.199706   \n",
      "6   0.199706  0.021195  0.046696    ...     0.072198  0.250710  0.276211   \n",
      "7   0.123201  0.046696  0.123201    ...     0.072198  0.021195 -0.029808   \n",
      "8   0.148703 -0.055310  0.123201    ...     0.097700  0.250710  0.123201   \n",
      "9   0.301713  0.174205  0.199706    ...     0.021195  0.174205 -0.055310   \n",
      "10  0.174205  0.276211  0.123201    ...     0.046696  0.072198  0.021195   \n",
      "11 -0.080812  0.123201  0.327214    ...     0.276211  0.123201  0.174205   \n",
      "12 -0.004307  0.327214  0.225208    ...     0.174205  0.174205  0.301713   \n",
      "13  0.199706  0.403719  0.378218    ...     0.021195  0.174205  0.250710   \n",
      "14  0.148703 -0.004307 -0.055310    ...     0.123201  0.225208  0.352716   \n",
      "15 -0.004307  0.072198  0.123201    ...     0.046696 -0.004307  0.276211   \n",
      "16  0.123201  0.250710  0.327214    ...     0.225208  0.225208  0.225208   \n",
      "17  0.123201  0.046696  0.148703    ...    -0.029808  0.276211  0.301713   \n",
      "18  0.123201  0.072198  0.097700    ...    -0.029808  0.148703  0.199706   \n",
      "19  0.327214  0.250710  0.097700    ...     0.148703  0.174205  0.021195   \n",
      "20 -0.029808 -0.004307 -0.055310    ...    -0.055310 -0.106313  0.123201   \n",
      "21  0.225208  0.276211  0.174205    ...     0.148703  0.174205  0.072198   \n",
      "22  0.021195  0.097700  0.046696    ...     0.199706 -0.055310 -0.055310   \n",
      "23  0.301713  0.276211  0.097700    ...     0.250710  0.021195  0.046696   \n",
      "24  0.072198  0.148703  0.123201    ...    -0.029808  0.046696  0.072198   \n",
      "25  0.301713  0.199706  0.225208    ...     0.174205  0.174205  0.123201   \n",
      "26  0.199706  0.352716  0.225208    ...     0.301713  0.327214  0.276211   \n",
      "27  0.072198 -0.055310 -0.029808    ...     0.097700  0.148703  0.072198   \n",
      "28  0.097700 -0.029808  0.046696    ...     0.123201  0.072198  0.123201   \n",
      "29  0.250710  0.276211  0.276211    ...     0.225208  0.250710  0.429221   \n",
      "\n",
      "        2993      2994      2995      2996      2997      2998      2999  \n",
      "0   0.225208  0.327214  0.225208  0.276211  0.123201  0.046696 -0.233821  \n",
      "1   0.097700  0.097700  0.225208  0.301713  0.225208  0.097700  0.123201  \n",
      "2   0.148703  0.276211  0.225208  0.250710  0.097700  0.148703  0.123201  \n",
      "3   0.327214  0.174205  0.301713  0.327214  0.123201 -0.029808  0.072198  \n",
      "4   0.199706  0.097700 -0.004307 -0.004307  0.072198  0.148703  0.250710  \n",
      "5   0.225208  0.199706  0.199706  0.072198  0.072198  0.199706  0.021195  \n",
      "6   0.327214  0.174205  0.072198  0.021195  0.021195  0.123201 -0.080812  \n",
      "7   0.046696  0.327214  0.327214  0.276211  0.276211  0.123201  0.046696  \n",
      "8   0.250710  0.148703  0.174205  0.123201  0.021195  0.123201  0.123201  \n",
      "9   0.072198  0.199706  0.276211  0.301713  0.123201  0.072198  0.123201  \n",
      "10 -0.106313  0.123201  0.148703  0.327214  0.225208  0.250710  0.148703  \n",
      "11  0.199706  0.123201  0.174205  0.148703 -0.055310 -0.131815  0.097700  \n",
      "12  0.276211  0.097700 -0.004307  0.097700 -0.080812 -0.029808  0.327214  \n",
      "13  0.148703  0.148703  0.174205  0.021195  0.021195  0.199706  0.174205  \n",
      "14  0.327214  0.199706  0.097700  0.148703  0.021195  0.021195  0.046696  \n",
      "15  0.199706  0.097700  0.225208  0.199706  0.276211  0.072198  0.021195  \n",
      "16  0.046696 -0.004307 -0.080812 -0.029808  0.072198  0.199706  0.378218  \n",
      "17  0.148703  0.225208  0.123201  0.199706  0.174205  0.148703 -0.080812  \n",
      "18  0.301713  0.225208  0.199706  0.225208  0.072198  0.123201  0.021195  \n",
      "19  0.072198  0.199706 -0.080812  0.021195  0.327214  0.276211  0.123201  \n",
      "20  0.378218  0.148703  0.327214  0.174205  0.225208 -0.004307 -0.029808  \n",
      "21 -0.004307  0.148703  0.021195  0.072198  0.378218  0.352716  0.148703  \n",
      "22  0.046696  0.174205  0.174205  0.301713  0.327214  0.174205 -0.004307  \n",
      "23 -0.080812  0.123201 -0.055310  0.250710  0.352716  0.199706  0.250710  \n",
      "24  0.225208  0.403719  0.327214  0.123201  0.148703  0.046696  0.021195  \n",
      "25  0.225208  0.072198  0.072198  0.148703  0.021195  0.225208  0.327214  \n",
      "26  0.097700  0.123201  0.021195  0.072198  0.123201 -0.055310  0.174205  \n",
      "27  0.123201 -0.080812 -0.029808  0.250710  0.429221  0.225208  0.123201  \n",
      "28  0.327214  0.199706  0.276211  0.276211  0.148703  0.072198  0.021195  \n",
      "29  0.148703 -0.157317 -0.208320  0.072198  0.276211  0.097700  0.174205  \n",
      "\n",
      "[30 rows x 3000 columns]\n"
     ]
    }
   ],
   "source": [
    "print movements['tip_ch1']\n",
    "# print movements['tip_ch2']\n",
    "# print movements['cyl_ch2']\n",
    "# print movements['cyl_ch2']\n",
    "# print movements['lat_ch1']\n",
    "# print movements['lat_ch2']\n",
    "# print movements['spher_ch1']\n",
    "# print movements['spher_ch2']\n",
    "# print movements['palm_ch1']\n",
    "# print movements['palm_ch2']\n",
    "\n"
   ]
  },
  {
   "cell_type": "markdown",
   "metadata": {},
   "source": [
    "### ** Basic Visualization**:\n",
    "   ###### data: The whole Data of all movements.\n",
    "   ###### movement_type: the movement which we want to visualize.\n",
    "   ###### patient_index: the index of patient who we want to visualize his data(our index ranges from 0:29).\n",
    "##### x_axis: Time  ( sampling rate of the data is 500 Hz).\n",
    "##### y_axis: EMG signal.+"
   ]
  },
  {
   "cell_type": "code",
   "execution_count": 151,
   "metadata": {
    "collapsed": false
   },
   "outputs": [
    {
     "data": {
      "image/png": "[encoded data removed]",
      "text/plain": [
       "<matplotlib.figure.Figure at 0xd00aac8>"
      ]
     },
     "metadata": {},
     "output_type": "display_data"
    }
   ],
   "source": [
    "def visualization (data,movement_type, patient_index):\n",
    "    if  (movement_type not in data.keys()) or patient_index > len(data[movement_type]):\n",
    "        print(\"Error. please check the patient index or the movement type!\")\n",
    "    else:\n",
    "        x_axis=np.linspace(0,6,3000)\n",
    "        y_axis=pd.DataFrame(data[movement_type]).loc[patient_index,:]\n",
    "        plt.plot(x_axis,y_axis)\n",
    "        plt.show()\n",
    "\n",
    "visualization(movements,\"tip_ch2\",0)"
   ]
  }
 ],
 "metadata": {
  "anaconda-cloud": {},
  "kernelspec": {
   "display_name": "Python [conda root]",
   "language": "python",
   "name": "conda-root-py"
  },
  "language_info": {
   "codemirror_mode": {
    "name": "ipython",
    "version": 2
   },
   "file_extension": ".py",
   "mimetype": "text/x-python",
   "name": "python",
   "nbconvert_exporter": "python",
   "pygments_lexer": "ipython2",
   "version": "2.7.12"
  }
 },
 "nbformat": 4,
 "nbformat_minor": 2
}
